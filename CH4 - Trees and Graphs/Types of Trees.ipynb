{
 "cells": [
  {
   "cell_type": "markdown",
   "metadata": {},
   "source": [
    "<h2>Types of Trees</h2>\n",
    "- Each Tree has a *root* Node\n",
    "- The root Node has 0 or more children\n",
    "- Each child of the root has 0 or more children\n",
    "\n",
    "**Binary Tree**: Each node of the tree can only have *2 or less children*<br/>\n",
    "- Full Binary Tree: All but last level of tree filled\n",
    "- Perfect Binary Tree: every layer filled\n",
    "\n",
    "**Binary Search Tree**: Binary Tree, all nodes to left smaller, all to right bigger\n",
    "\n",
    "**O(logn)** **insert** and **find**\n",
    "\n",
    "**Balanced Trees**<br/>\n",
    "**Red Black Tree**:<br/>\n",
    "**AVL Trees**:<br/>"
   ]
  },
  {
   "cell_type": "code",
   "execution_count": 2,
   "metadata": {
    "collapsed": false
   },
   "outputs": [],
   "source": [
    "#Simple Implementation of a Binary Tree\n",
    "class Node():\n",
    "    def __init__(self,value):\n",
    "        self.value = value\n",
    "        self.left = None\n",
    "        self.right = None\n",
    "class Tree():\n",
    "    def __init__(self):\n",
    "        self.root = None"
   ]
  },
  {
   "cell_type": "code",
   "execution_count": 10,
   "metadata": {
    "collapsed": true
   },
   "outputs": [],
   "source": [
    "#Traversals of a Binary Tree\n",
    "\n",
    "#first left, then node, then right\n",
    "def inOrderTraversal(node):\n",
    "    if node != None:\n",
    "        inOrderTraversal(node.left)\n",
    "        print(node.value)\n",
    "        inOrderTraversal(node.right)\n",
    "\n",
    "#first node, then left, then right\n",
    "def preOrderTraversal(node):\n",
    "    if node != None:\n",
    "        print(node.value)\n",
    "        preOrderTraversal(node.left)\n",
    "        preOrderTraversal(node.right)\n",
    "\n",
    "#first left, then right, then node\n",
    "def postOrderTraversal(node):\n",
    "    if node != None:\n",
    "        postOrderTraversal(node.left)\n",
    "        postOrderTraversal(node.right)\n",
    "        print(node.value)\n",
    "        \n",
    "        \n",
    "#some extra shit\n",
    "#technically you can do tree traversal \n",
    "#a total of 3! = 6 ways\n",
    "#(basically running the above 3 in reverse)\n",
    "\n",
    "#first left, then node, then right\n",
    "def inOrderReversal(node):\n",
    "    if node != None:\n",
    "        inOrderTraversal(node.right)\n",
    "        print(node.value)\n",
    "        inOrderTraversal(node.left)\n",
    "\n",
    "#first node, then left, then right\n",
    "def preOrderReversal(node):\n",
    "    if node != None:\n",
    "        print(node.value)\n",
    "        preOrderTraversal(node.right)\n",
    "        preOrderTraversal(node.left)\n",
    "\n",
    "#first left, then right, then node\n",
    "def postOrderReversal(node):\n",
    "    if node != None:\n",
    "        postOrderTraversal(node.right)\n",
    "        postOrderTraversal(node.left)\n",
    "        print(node.value)\n",
    "        \n",
    "    "
   ]
  },
  {
   "cell_type": "code",
   "execution_count": 11,
   "metadata": {
    "collapsed": false
   },
   "outputs": [
    {
     "name": "stdout",
     "output_type": "stream",
     "text": [
      "in order\n",
      "2\n",
      "1\n",
      "3\n",
      "4\n",
      "\n",
      "pre order\n",
      "1\n",
      "2\n",
      "3\n",
      "4\n",
      "\n",
      "post order\n",
      "2\n",
      "4\n",
      "3\n",
      "1\n"
     ]
    }
   ],
   "source": [
    "a = Node(1)\n",
    "b = Node(2)\n",
    "c = Node(3)\n",
    "d = Node(4)\n",
    "a.left = b\n",
    "a.right = c\n",
    "c.right = d\n",
    "print(\"in order\")\n",
    "inOrderTraversal(a)\n",
    "print(\"\\npre order\")\n",
    "preOrderTraversal(a)\n",
    "print(\"\\npost order\")\n",
    "postOrderTraversal(a)"
   ]
  },
  {
   "cell_type": "markdown",
   "metadata": {
    "collapsed": true
   },
   "source": [
    "<h3>Binary Heap (Max and Min Heaps)</h3>\n",
    "- *complete* binary tree\n",
    "- 2 operations:\n",
    ">insert() and extract_min()\n",
    "\n",
    "**Insertion Algorithm**<br/>\n",
    "- *Compare and swap up* - **Olog(n)**\n",
    "\n",
    "**Extract Minimum**<br/>\n",
    "- *return top*\n",
    "- *swap down* replacing with the smaller value\n",
    "\n",
    "<h3>Tries(Prefix Trees)</h3>\n",
    "- variant of **n-ary** tree\n",
    "- each terminal leaf on all branches is a **null terminator**\n",
    "- eg. *String Encoding*, *Prefix Lookup*, \n",
    "\n",
    "<h4>Big O of Tries</h4>\n",
    "- prefix check in **O(K)** time (*K = length of string*)\n",
    "- so *actually*... Hash Tables take *O(K)* time to lookup strings. This is only a technicality though, as we know we often say Hash Lookups require *O(1)* amortized time. This is largely because Timing Analysis are often performed in reference to different Atomic operations (in this case counting decompiled code O(K) vs. counting semantic code O(1))"
   ]
  },
  {
   "cell_type": "code",
   "execution_count": null,
   "metadata": {
    "collapsed": true
   },
   "outputs": [],
   "source": []
  },
  {
   "cell_type": "code",
   "execution_count": null,
   "metadata": {
    "collapsed": true
   },
   "outputs": [],
   "source": []
  }
 ],
 "metadata": {
  "kernelspec": {
   "display_name": "Python 3",
   "language": "python",
   "name": "python3"
  },
  "language_info": {
   "codemirror_mode": {
    "name": "ipython",
    "version": 3
   },
   "file_extension": ".py",
   "mimetype": "text/x-python",
   "name": "python",
   "nbconvert_exporter": "python",
   "pygments_lexer": "ipython3",
   "version": "3.6.0"
  }
 },
 "nbformat": 4,
 "nbformat_minor": 2
}
