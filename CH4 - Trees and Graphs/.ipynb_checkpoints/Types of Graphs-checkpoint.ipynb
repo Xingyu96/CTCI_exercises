{
 "cells": [
  {
   "cell_type": "markdown",
   "metadata": {},
   "source": [
    "<h2>Types of Graphs</h2>\n",
    "- A *tree* is actually a special type of ***Graph***. It is in fact an *Acyclic Connected Graph*\n",
    "\n",
    "**Graph**<br/>\n",
    "- Graphs can be either *directed* or *undirected* \n",
    "- A Graph can consist of multiple, isolated *subgraphs*"
   ]
  }
 ],
 "metadata": {
  "kernelspec": {
   "display_name": "Python 3",
   "language": "python",
   "name": "python3"
  },
  "language_info": {
   "codemirror_mode": {
    "name": "ipython",
    "version": 3
   },
   "file_extension": ".py",
   "mimetype": "text/x-python",
   "name": "python",
   "nbconvert_exporter": "python",
   "pygments_lexer": "ipython3",
   "version": "3.6.0"
  }
 },
 "nbformat": 4,
 "nbformat_minor": 2
}
