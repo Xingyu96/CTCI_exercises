{
 "cells": [
  {
   "cell_type": "markdown",
   "metadata": {},
   "source": [
    "<h2>Types of Graphs</h2>\n",
    "- A *tree* is actually a special type of ***Graph***. It is in fact an *Acyclic Connected Graph*\n",
    "\n",
    "**Graph**<br/>\n",
    "- Graphs can be either *directed* or *undirected* \n",
    "- A Graph can consist of multiple, isolated *subgraphs*\n",
    "- A Graph can also have *cycles*\n",
    "\n",
    "**Definition**: G = (V,E) where V = Set of vertices (nodes) and E = Set of Edges\n",
    "\n",
    "In terms of programming, two common ways of representing Graphs are via *Adjacency List* or *Adjacency Matrix*\n",
    "\n",
    "<h3>Adjacency List</h3>"
   ]
  },
  {
   "cell_type": "code",
   "execution_count": 2,
   "metadata": {
    "collapsed": true
   },
   "outputs": [],
   "source": [
    "#So naturally, we can represent Vertices as an implementation of Node class\n",
    "#each maintaining a list of its neighbours\n",
    "\n",
    "#But a graph is not complemete without a concrete represetation of its Edges\n",
    "#A simple implementation would be using an adjacency \n",
    "#(essentially a hash table for edges)\n",
    "\n",
    "class Graph():\n",
    "    def __init__(self):\n",
    "        self.adjacencylist = []\n",
    "\n",
    "class Node():\n",
    "    def __init__(self,value):\n",
    "        self.value = value\n",
    "        self.neighbours = []"
   ]
  },
  {
   "cell_type": "markdown",
   "metadata": {},
   "source": [
    "<h3>Adjacency Matrix</h3>\n",
    "- NxN boolean matrix where 1 = edge and 0 = no edge\n",
    "- really space inneficient way of representing a graph\n",
    "- creates in a lot of cases very sparce matrices"
   ]
  },
  {
   "cell_type": "code",
   "execution_count": null,
   "metadata": {
    "collapsed": true
   },
   "outputs": [],
   "source": []
  }
 ],
 "metadata": {
  "kernelspec": {
   "display_name": "Python 3",
   "language": "python",
   "name": "python3"
  },
  "language_info": {
   "codemirror_mode": {
    "name": "ipython",
    "version": 3
   },
   "file_extension": ".py",
   "mimetype": "text/x-python",
   "name": "python",
   "nbconvert_exporter": "python",
   "pygments_lexer": "ipython3",
   "version": "3.6.0"
  }
 },
 "nbformat": 4,
 "nbformat_minor": 2
}
