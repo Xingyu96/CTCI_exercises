{
 "cells": [
  {
   "cell_type": "code",
   "execution_count": 81,
   "metadata": {
    "collapsed": true
   },
   "outputs": [],
   "source": [
    "# runtime, optimal is O(n^2) because all squares have to be touched\n",
    "# for every \"layer\"\n",
    "    #save element in temp, switch places, repeat\n"
   ]
  },
  {
   "cell_type": "code",
   "execution_count": 91,
   "metadata": {
    "collapsed": false
   },
   "outputs": [],
   "source": [
    "import math\n",
    "#rotate in place, if success, don't return anything\n",
    "#if error on input, return false\n",
    "def rotateMatrix(matrix):\n",
    "    #first check edge cases\n",
    "    #matrix has to be square and not empty\n",
    "    #let's assume that at least rows and column lengths are consistent\n",
    "    if(len(matrix) == 0 | len(matrix) != len(matrix[0])):\n",
    "        return False\n",
    "    else:\n",
    "        #for each layer, outwards in\n",
    "        for layer in range(math.ceil(len(matrix) / 2) ):\n",
    "            #indices of switch \"arrays\"\n",
    "            first = layer\n",
    "            last = len(matrix) - 1 - layer\n",
    "            for el in range(first,last):\n",
    "                offset = el - first #need this to account for different layers\n",
    "                temp = matrix[first][el]\n",
    "                matrix[first][el] = matrix[last-offset][first]\n",
    "                matrix[last-offset][first] = matrix[last][last-offset]\n",
    "                matrix[last][last-el] = matrix[el][last]\n",
    "                matrix[el][last] = temp\n",
    "            \n",
    "        return matrix\n",
    "            \n",
    "    "
   ]
  },
  {
   "cell_type": "code",
   "execution_count": 92,
   "metadata": {
    "collapsed": true
   },
   "outputs": [],
   "source": [
    "m = [[1,2,3,4],[3,4,5,6],[5,6,7,8],[7,8,9,10]]"
   ]
  },
  {
   "cell_type": "code",
   "execution_count": 93,
   "metadata": {
    "collapsed": false
   },
   "outputs": [
    {
     "name": "stdout",
     "output_type": "stream",
     "text": [
      "[[7, 5, 3, 1], [8, 6, 4, 2], [9, 5, 7, 3], [10, 8, 6, 4]]\n"
     ]
    }
   ],
   "source": [
    "rotateMatrix(m)\n",
    "print(m)\n"
   ]
  },
  {
   "cell_type": "code",
   "execution_count": null,
   "metadata": {
    "collapsed": false
   },
   "outputs": [],
   "source": []
  },
  {
   "cell_type": "code",
   "execution_count": null,
   "metadata": {
    "collapsed": true
   },
   "outputs": [],
   "source": []
  },
  {
   "cell_type": "code",
   "execution_count": null,
   "metadata": {
    "collapsed": true
   },
   "outputs": [],
   "source": []
  }
 ],
 "metadata": {
  "kernelspec": {
   "display_name": "Python 3",
   "language": "python",
   "name": "python3"
  },
  "language_info": {
   "codemirror_mode": {
    "name": "ipython",
    "version": 3
   },
   "file_extension": ".py",
   "mimetype": "text/x-python",
   "name": "python",
   "nbconvert_exporter": "python",
   "pygments_lexer": "ipython3",
   "version": "3.6.0"
  }
 },
 "nbformat": 4,
 "nbformat_minor": 2
}
