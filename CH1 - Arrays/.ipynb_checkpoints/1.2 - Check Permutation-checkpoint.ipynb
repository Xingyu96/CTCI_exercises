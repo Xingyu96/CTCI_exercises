{
 "cells": [
  {
   "cell_type": "code",
   "execution_count": 40,
   "metadata": {
    "collapsed": true
   },
   "outputs": [],
   "source": [
    "# Ask about Case sensitivity\n",
    "# Ask about white space sensitivity"
   ]
  },
  {
   "cell_type": "code",
   "execution_count": 41,
   "metadata": {
    "collapsed": false
   },
   "outputs": [],
   "source": [
    "# Check character Count by using Counter class O(n)\n",
    "from collections import Counter\n",
    "\n",
    "def checkPalindrome1(string1, string2):\n",
    "    if len(string1) != len(string2):\n",
    "        return False\n",
    "\n",
    "    counter = Counter()\n",
    "    for char in string1:\n",
    "        counter[char] += 1\n",
    "    for char in string2:\n",
    "        if counter[char] == 0:\n",
    "            return False\n",
    "        else:\n",
    "            counter[char] -= 1\n",
    "    return True\n",
    "        "
   ]
  },
  {
   "cell_type": "code",
   "execution_count": 42,
   "metadata": {
    "collapsed": true
   },
   "outputs": [],
   "source": [
    "# Sort Arrays First (nlogn), check for identical (n) = O(nlogn)\n",
    "def checkPalindrome2(string1, string2):\n",
    "    sorted1 = sorted(string1)\n",
    "    sorted2 = sorted(string2)\n",
    "    \n",
    "    return sorted1 == sorted2"
   ]
  }
 ],
 "metadata": {
  "kernelspec": {
   "display_name": "Python 3",
   "language": "python",
   "name": "python3"
  },
  "language_info": {
   "codemirror_mode": {
    "name": "ipython",
    "version": 3
   },
   "file_extension": ".py",
   "mimetype": "text/x-python",
   "name": "python",
   "nbconvert_exporter": "python",
   "pygments_lexer": "ipython3",
   "version": "3.6.0"
  }
 },
 "nbformat": 4,
 "nbformat_minor": 2
}
