{
 "cells": [
  {
   "cell_type": "code",
   "execution_count": 14,
   "metadata": {
    "collapsed": false
   },
   "outputs": [],
   "source": [
    "# compare two strings \n",
    "def isOneAway(stringA, stringB):\n",
    "    \n",
    "    dictA = {}\n",
    "    dictB = {}\n",
    "    \n",
    "    for c in stringA:\n",
    "        if c in dictA:\n",
    "            dictA[c] += 1\n",
    "        else:\n",
    "            dictA[c] = 1\n",
    "    \n",
    "    for c in stringB:\n",
    "        if c in dictB:\n",
    "            dictB[c] += 1\n",
    "        else:\n",
    "            dictB[c] = 1\n",
    "    \n",
    "    difference = 0\n",
    "    \n",
    "    \n",
    "    for character, count in dictA.items():\n",
    "        if character in dictB:\n",
    "            if dictB[character] != count:\n",
    "                difference += 1\n",
    "            del dictB[character]\n",
    "        else:\n",
    "            difference += 1\n",
    "    if len(dictB) != 0:\n",
    "        for character, count in dictB.items():\n",
    "            if character in dictA:\n",
    "                if dictA[character] != count:\n",
    "                    difference += 1\n",
    "            else:\n",
    "                difference += 1\n",
    "                 \n",
    "    \n",
    "    return difference < 2"
   ]
  },
  {
   "cell_type": "code",
   "execution_count": null,
   "metadata": {
    "collapsed": true
   },
   "outputs": [],
   "source": [
    "# Book Solution\n",
    "#using helper functions\n",
    "#max difference is 1, so we can safely ignore all cases where length are different more than 1\n",
    "def isOneAway2(stringA, stringB):\n",
    "    if len(stringA) == len(stringB):\n",
    "        return oneEditAway(stringA, stringB)\n",
    "    elif len(stringA) + 1 == len(stringB):\n",
    "        return oneInsertionAway(stringA, stringB) #enforce longer first\n",
    "    elif len(stringA) - 1 == len(stringB):\n",
    "        return oneInsertionAway(stringB, stringA) #enforce longer first\n",
    "    else:\n",
    "        return False\n",
    "    \n",
    "def oneEditAway(stringA, stringB):\n",
    "    oneDifference = False\n",
    "    for character, index in stringA:\n",
    "        if character != stringB[index]:\n",
    "            if oneDifference:\n",
    "                return False\n",
    "            else:\n",
    "                oneDifference = True\n",
    "    return True\n",
    "    \n",
    "def oneInsertionAway(stringA, stringB)\n",
    "\n"
   ]
  },
  {
   "cell_type": "code",
   "execution_count": 15,
   "metadata": {
    "collapsed": false
   },
   "outputs": [
    {
     "data": {
      "text/plain": [
       "False"
      ]
     },
     "execution_count": 15,
     "metadata": {},
     "output_type": "execute_result"
    }
   ],
   "source": [
    "a = 'a'\n",
    "b = 'b'\n",
    "c = 'a'\n",
    "d = 'aa'\n",
    "e = 'bb'\n",
    "\n",
    "isOneAway(a,e)"
   ]
  },
  {
   "cell_type": "code",
   "execution_count": null,
   "metadata": {
    "collapsed": true
   },
   "outputs": [],
   "source": []
  }
 ],
 "metadata": {
  "kernelspec": {
   "display_name": "Python 3",
   "language": "python",
   "name": "python3"
  },
  "language_info": {
   "codemirror_mode": {
    "name": "ipython",
    "version": 3
   },
   "file_extension": ".py",
   "mimetype": "text/x-python",
   "name": "python",
   "nbconvert_exporter": "python",
   "pygments_lexer": "ipython3",
   "version": "3.6.0"
  }
 },
 "nbformat": 4,
 "nbformat_minor": 2
}
