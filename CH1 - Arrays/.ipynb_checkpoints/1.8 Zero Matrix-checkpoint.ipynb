{
 "cells": [
  {
   "cell_type": "code",
   "execution_count": 5,
   "metadata": {
    "collapsed": false
   },
   "outputs": [],
   "source": [
    "#zero matrix, assume columns and rows are consisten\n",
    "#patrix does not have to be square\n",
    "# O(n^2)\n",
    "def ZeroMatrix(matrix):\n",
    "    #one pass, identify which rows and columns need to turned to zero\n",
    "    #save these in 2 arrays, space requirement is N\n",
    "    rows = [0] * len(matrix)\n",
    "    columns = [0] * len(matrix[0])\n",
    "    for i in range(len(matrix)):\n",
    "        for j in range(len(matrix[0])):\n",
    "            if matrix[i][j] == 0:\n",
    "                rows[i] = 1\n",
    "                columns[j] = 1\n",
    "            \n",
    "    \n",
    "    #turn them to zero! (2 passes)\n",
    "    for r in rows:\n",
    "        \n",
    "    \n",
    "    return matrix"
   ]
  },
  {
   "cell_type": "code",
   "execution_count": null,
   "metadata": {
    "collapsed": true
   },
   "outputs": [],
   "source": []
  }
 ],
 "metadata": {
  "kernelspec": {
   "display_name": "Python 3",
   "language": "python",
   "name": "python3"
  },
  "language_info": {
   "codemirror_mode": {
    "name": "ipython",
    "version": 3
   },
   "file_extension": ".py",
   "mimetype": "text/x-python",
   "name": "python",
   "nbconvert_exporter": "python",
   "pygments_lexer": "ipython3",
   "version": "3.6.0"
  }
 },
 "nbformat": 4,
 "nbformat_minor": 2
}
