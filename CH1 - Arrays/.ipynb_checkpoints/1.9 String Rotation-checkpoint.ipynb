{
 "cells": [
  {
   "cell_type": "code",
   "execution_count": 46,
   "metadata": {
    "collapsed": false
   },
   "outputs": [],
   "source": [
    "def isRotation(s1, s2):\n",
    "    if len(s1) != len(s2):\n",
    "        return False\n",
    "    else:\n",
    "        #IMPORTANT: DOUBLING ONE STRING !\n",
    "        return isSubstring(s1 + s1, s2)\n",
    "\n",
    "def isSubstring(longer, shorter):\n",
    "    if len(shorter) == len(longer):\n",
    "        return shorter == longer\n",
    "    for offset in range(len(longer) - len(shorter)):\n",
    "        if longer[offset:offset+len(shorter)] == shorter:\n",
    "            return True\n",
    "    return False"
   ]
  },
  {
   "cell_type": "code",
   "execution_count": 47,
   "metadata": {
    "collapsed": false
   },
   "outputs": [],
   "source": [
    "s1 = \"abcd\"\n",
    "s2 = \"cdab\""
   ]
  },
  {
   "cell_type": "code",
   "execution_count": 48,
   "metadata": {
    "collapsed": false
   },
   "outputs": [
    {
     "data": {
      "text/plain": [
       "True"
      ]
     },
     "execution_count": 48,
     "metadata": {},
     "output_type": "execute_result"
    }
   ],
   "source": [
    "isRotation(s1,s2)"
   ]
  },
  {
   "cell_type": "code",
   "execution_count": null,
   "metadata": {
    "collapsed": true
   },
   "outputs": [],
   "source": []
  }
 ],
 "metadata": {
  "kernelspec": {
   "display_name": "Python 3",
   "language": "python",
   "name": "python3"
  },
  "language_info": {
   "codemirror_mode": {
    "name": "ipython",
    "version": 3
   },
   "file_extension": ".py",
   "mimetype": "text/x-python",
   "name": "python",
   "nbconvert_exporter": "python",
   "pygments_lexer": "ipython3",
   "version": "3.6.0"
  }
 },
 "nbformat": 4,
 "nbformat_minor": 2
}
