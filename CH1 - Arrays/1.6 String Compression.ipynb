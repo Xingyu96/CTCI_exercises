{
 "cells": [
  {
   "cell_type": "code",
   "execution_count": 56,
   "metadata": {
    "collapsed": false
   },
   "outputs": [],
   "source": [
    "def compress(inputString):\n",
    "    if len(inputString) < 2:\n",
    "        return inputString\n",
    "    \n",
    "    #count repeats with a one sweep\n",
    "    #save first encounter of character to result string, compare with further loops\n",
    "    #if same increase count\n",
    "    #if not save char, reset count, write to result string\n",
    "    #keep track of length, if it grows longer, break and return original string\n",
    "    outputString = \"\"\n",
    "    cur_char = ''\n",
    "    cur_count = 0\n",
    "    for index, character in enumerate(inputString):\n",
    "        if index == 0:\n",
    "            cur_char = character\n",
    "            cur_count += 1\n",
    "        elif index == len(inputString) - 1:\n",
    "            if character != cur_char:\n",
    "                outputString = outputString + str(cur_char) + str(cur_count)\n",
    "                outputString = outputString + str(character) + str(1)\n",
    "            else:\n",
    "                cur_count += 1\n",
    "                outputString = outputString + str(cur_char) + str(cur_count)\n",
    "        \n",
    "        elif character == cur_char:\n",
    "            cur_count += 1\n",
    "        else:\n",
    "            outputString = outputString + str(cur_char) + str(cur_count)\n",
    "            cur_char = character\n",
    "            cur_count = 1\n",
    "    if len(outputString) > len(inputString):\n",
    "        return inputString\n",
    "    else:\n",
    "        return outputString"
   ]
  },
  {
   "cell_type": "code",
   "execution_count": 64,
   "metadata": {
    "collapsed": false
   },
   "outputs": [
    {
     "data": {
      "text/plain": [
       "'A1a1d1v1a7r1'"
      ]
     },
     "execution_count": 64,
     "metadata": {},
     "output_type": "execute_result"
    }
   ],
   "source": [
    "compress(\"Aadvaaaaaaar\")"
   ]
  },
  {
   "cell_type": "code",
   "execution_count": null,
   "metadata": {
    "collapsed": true
   },
   "outputs": [],
   "source": []
  }
 ],
 "metadata": {
  "kernelspec": {
   "display_name": "Python 3",
   "language": "python",
   "name": "python3"
  },
  "language_info": {
   "codemirror_mode": {
    "name": "ipython",
    "version": 3
   },
   "file_extension": ".py",
   "mimetype": "text/x-python",
   "name": "python",
   "nbconvert_exporter": "python",
   "pygments_lexer": "ipython3",
   "version": "3.6.0"
  }
 },
 "nbformat": 4,
 "nbformat_minor": 2
}
