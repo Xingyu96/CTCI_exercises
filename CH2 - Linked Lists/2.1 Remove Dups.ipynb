{
 "cells": [
  {
   "cell_type": "code",
   "execution_count": 13,
   "metadata": {
    "collapsed": false
   },
   "outputs": [],
   "source": [
    "class Node():\n",
    "    \n",
    "    def __init__(self, data, nextNode = None):\n",
    "        self.nextNode = nextNode\n",
    "        self.data = data\n",
    "        \n",
    "    def __str__(self):\n",
    "        return str(self.data)\n",
    "        \n",
    "    #append to tail\n",
    "    def appendToTail(head, d):\n",
    "        end = Node(d)\n",
    "        n = head\n",
    "        while n.nextNode != None:\n",
    "            n = n.nextNode\n",
    "        n.nextNode = end\n",
    "        \n",
    "    #delete\n",
    "    def deleteNode(head, d):\n",
    "        n = head\n",
    "        if n.data == d:\n",
    "            return head.next\n",
    "        else:\n",
    "            while n.next != None:\n",
    "                if n.next.data == d:\n",
    "                    n.next = n.next.next\n",
    "                    return head\n",
    "                n = n.next\n",
    "            return head"
   ]
  },
  {
   "cell_type": "code",
   "execution_count": 14,
   "metadata": {
    "collapsed": true
   },
   "outputs": [],
   "source": [
    "def deleteDups(linked_list):\n",
    "    dup_hash_map = {}\n",
    "    n = linked_list\n",
    "    while n.next != None:\n",
    "        if dup_hash_map.has_key(n.data):\n",
    "            deleteNode(linked_list,n)\n",
    "        else:\n",
    "            dup_has_map[n.data] = 1"
   ]
  },
  {
   "cell_type": "code",
   "execution_count": 15,
   "metadata": {
    "collapsed": false
   },
   "outputs": [],
   "source": [
    "head = Node(5)\n",
    "head.appendToTail(4)"
   ]
  },
  {
   "cell_type": "code",
   "execution_count": 16,
   "metadata": {
    "collapsed": false
   },
   "outputs": [
    {
     "data": {
      "text/plain": [
       "'5'"
      ]
     },
     "execution_count": 16,
     "metadata": {},
     "output_type": "execute_result"
    }
   ],
   "source": [
    "str(head)"
   ]
  },
  {
   "cell_type": "code",
   "execution_count": null,
   "metadata": {
    "collapsed": true
   },
   "outputs": [],
   "source": []
  },
  {
   "cell_type": "code",
   "execution_count": null,
   "metadata": {
    "collapsed": true
   },
   "outputs": [],
   "source": []
  }
 ],
 "metadata": {
  "kernelspec": {
   "display_name": "Python 3",
   "language": "python",
   "name": "python3"
  },
  "language_info": {
   "codemirror_mode": {
    "name": "ipython",
    "version": 3
   },
   "file_extension": ".py",
   "mimetype": "text/x-python",
   "name": "python",
   "nbconvert_exporter": "python",
   "pygments_lexer": "ipython3",
   "version": "3.6.0"
  }
 },
 "nbformat": 4,
 "nbformat_minor": 2
}
