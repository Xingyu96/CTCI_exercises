{
 "cells": [
  {
   "cell_type": "code",
   "execution_count": 25,
   "metadata": {
    "collapsed": true
   },
   "outputs": [],
   "source": [
    "class Node():\n",
    "    def __init__(self, value, nextNode=None, lastNode=None):\n",
    "        self.value = value\n",
    "        self.nextNode = nextNode\n",
    "        self.lastNode = lastNode\n",
    "    def __str__(self):\n",
    "        return str(self.value)\n",
    "    "
   ]
  },
  {
   "cell_type": "code",
   "execution_count": 41,
   "metadata": {
    "collapsed": false
   },
   "outputs": [
    {
     "ename": "SyntaxError",
     "evalue": "invalid syntax (<ipython-input-41-7ddb8fd21b5d>, line 2)",
     "output_type": "error",
     "traceback": [
      "\u001b[0;36m  File \u001b[0;32m\"<ipython-input-41-7ddb8fd21b5d>\"\u001b[0;36m, line \u001b[0;32m2\u001b[0m\n\u001b[0;31m    def __init__(self, head=None tail=None):  #\u001b[0m\n\u001b[0m                                    ^\u001b[0m\n\u001b[0;31mSyntaxError\u001b[0m\u001b[0;31m:\u001b[0m invalid syntax\n"
     ]
    }
   ],
   "source": [
    "class DoublyLinkedList:\n",
    "    def __init__(self, head=None tail=None):  #\n",
    "         #assert isinstance(value, Node) if you have a node\n",
    "        self.head = head\n",
    "        self.tail = tail\n",
    "        self.size = 0\n",
    "    def __len__(self):\n",
    "        return self.size\n",
    "    def __str__(self):\n",
    "        if self.head == None:\n",
    "            return \"\"\n",
    "        else:\n",
    "            s = \"\"\n",
    "            temp = self.head\n",
    "            while temp.nextNode != None:\n",
    "                s += (str(temp) + \" \")\n",
    "                temp = temp.nextNode\n",
    "            return s\n",
    "    \n",
    "    def push_head(self,value):\n",
    "        node = Node(value)\n",
    "        if self.head == None:\n",
    "            self.head = node\n",
    "            self.tail = node\n",
    "            node.nextNode = None\n",
    "            node.lastNode = None\n",
    "        else:\n",
    "            node.nextNode = self.head\n",
    "            self.head.lastNode = node\n",
    "            self.head = node\n",
    "        self.size += 1\n",
    "    \n",
    "    def push_tail(self,value):\n",
    "        node = Node(value)\n",
    "        if self.tail == None:\n",
    "            self.head = node\n",
    "            self.tail = node\n",
    "            node.nextNode = None\n",
    "            node.lastNode = None\n",
    "        else:\n",
    "            node.lastNode = self.tail\n",
    "            self.tail.nextNode = node\n",
    "            self.tail = node\n",
    "        self.size += 1\n",
    "        \n",
    "    def pop_head(self):\n",
    "        if self.head == None:\n",
    "            return None\n",
    "        else:\n",
    "            temp = self.head\n",
    "            self.head = self.head.nextNode\n",
    "            self.head.lastNode = None\n",
    "            return temp\n",
    "    \n",
    "    def pop_tail(self):\n",
    "        if self.tail == None:\n",
    "            return None\n",
    "        else:\n",
    "            temp = self.tail\n",
    "            self.tail = self.tail.lastNode\n",
    "            self.head.nextNode = None\n",
    "            return temp\n",
    "        \n",
    "    "
   ]
  },
  {
   "cell_type": "code",
   "execution_count": 51,
   "metadata": {
    "collapsed": false
   },
   "outputs": [
    {
     "data": {
      "text/plain": [
       "'5 6 5 '"
      ]
     },
     "execution_count": 51,
     "metadata": {},
     "output_type": "execute_result"
    }
   ],
   "source": [
    "d = DoublyLinkedList()\n",
    "d.push_head(100000)\n",
    "d.push_head(5)\n",
    "d.push_head(6)\n",
    "d.push_head(7)\n",
    "d.pop_head()\n",
    "d.push_head(5)\n",
    "str(d)"
   ]
  },
  {
   "cell_type": "code",
   "execution_count": 52,
   "metadata": {
    "collapsed": false
   },
   "outputs": [
    {
     "name": "stdout",
     "output_type": "stream",
     "text": [
      "5 6 5 \n"
     ]
    }
   ],
   "source": [
    "print(d)"
   ]
  },
  {
   "cell_type": "code",
   "execution_count": 53,
   "metadata": {
    "collapsed": false
   },
   "outputs": [
    {
     "data": {
      "text/plain": [
       "'5 6 5 '"
      ]
     },
     "execution_count": 53,
     "metadata": {},
     "output_type": "execute_result"
    }
   ],
   "source": [
    "str(d)"
   ]
  },
  {
   "cell_type": "code",
   "execution_count": null,
   "metadata": {
    "collapsed": true
   },
   "outputs": [],
   "source": []
  },
  {
   "cell_type": "code",
   "execution_count": null,
   "metadata": {
    "collapsed": true
   },
   "outputs": [],
   "source": []
  }
 ],
 "metadata": {
  "kernelspec": {
   "display_name": "Python 3",
   "language": "python",
   "name": "python3"
  },
  "language_info": {
   "codemirror_mode": {
    "name": "ipython",
    "version": 3
   },
   "file_extension": ".py",
   "mimetype": "text/x-python",
   "name": "python",
   "nbconvert_exporter": "python",
   "pygments_lexer": "ipython3",
   "version": "3.6.0"
  }
 },
 "nbformat": 4,
 "nbformat_minor": 2
}
